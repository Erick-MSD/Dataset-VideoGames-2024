{
 "cells": [
  {
   "cell_type": "code",
   "execution_count": 8,
   "metadata": {},
   "outputs": [
    {
     "name": "stdout",
     "output_type": "stream",
     "text": [
      "                                                 img  \\\n",
      "0      /games/boxart/full_6510540AmericaFrontccc.jpg   \n",
      "1      /games/boxart/full_5563178AmericaFrontccc.jpg   \n",
      "2                        /games/boxart/827563ccc.jpg   \n",
      "3      /games/boxart/full_9218923AmericaFrontccc.jpg   \n",
      "4      /games/boxart/full_4990510AmericaFrontccc.jpg   \n",
      "...                                              ...   \n",
      "64011  /games/boxart/full_2779838AmericaFrontccc.jpg   \n",
      "64012  /games/boxart/full_8031506AmericaFrontccc.jpg   \n",
      "64013  /games/boxart/full_6553045AmericaFrontccc.jpg   \n",
      "64014    /games/boxart/full_6012940JapanFrontccc.png   \n",
      "64015                      /games/boxart/default.jpg   \n",
      "\n",
      "                                  title console         genre  \\\n",
      "0                    Grand Theft Auto V     PS3        Action   \n",
      "1                    Grand Theft Auto V     PS4        Action   \n",
      "2           Grand Theft Auto: Vice City     PS2        Action   \n",
      "3                    Grand Theft Auto V    X360        Action   \n",
      "4             Call of Duty: Black Ops 3     PS4       Shooter   \n",
      "...                                 ...     ...           ...   \n",
      "64011             XBlaze Lost: Memories      PC  Visual Novel   \n",
      "64012                      Yoru, Tomosu     PS4  Visual Novel   \n",
      "64013                      Yoru, Tomosu      NS  Visual Novel   \n",
      "64014   Yunohana SpRING! ~Mellow Times~      NS  Visual Novel   \n",
      "64015  Yurukill: The Calumniation Games     PS4  Visual Novel   \n",
      "\n",
      "                  publisher             developer  critic_score  total_sales  \\\n",
      "0            Rockstar Games        Rockstar North           9.4        20.32   \n",
      "1            Rockstar Games        Rockstar North           9.7        19.39   \n",
      "2            Rockstar Games        Rockstar North           9.6        16.15   \n",
      "3            Rockstar Games        Rockstar North           NaN        15.86   \n",
      "4                Activision              Treyarch           8.1        15.09   \n",
      "...                     ...                   ...           ...          ...   \n",
      "64011           Aksys Games      Arc System Works           NaN          NaN   \n",
      "64012  Nippon Ichi Software  Nippon Ichi Software           NaN          NaN   \n",
      "64013  Nippon Ichi Software  Nippon Ichi Software           NaN          NaN   \n",
      "64014          Idea Factory               Otomate           NaN          NaN   \n",
      "64015               Unknown            G.rev Ltd.           NaN          NaN   \n",
      "\n",
      "       na_sales  jp_sales  pal_sales  other_sales release_date last_update  \n",
      "0          6.37      0.99       9.85         3.12   2013-09-17         NaN  \n",
      "1          6.06      0.60       9.71         3.02   2014-11-18  2018-01-03  \n",
      "2          8.41      0.47       5.49         1.78   2002-10-28         NaN  \n",
      "3          9.06      0.06       5.33         1.42   2013-09-17         NaN  \n",
      "4          6.18      0.41       6.05         2.44   2015-11-06  2018-01-14  \n",
      "...         ...       ...        ...          ...          ...         ...  \n",
      "64011       NaN       NaN        NaN          NaN   2016-08-11  2019-01-28  \n",
      "64012       NaN       NaN        NaN          NaN   2020-07-30  2020-05-09  \n",
      "64013       NaN       NaN        NaN          NaN   2020-07-30  2020-05-09  \n",
      "64014       NaN       NaN        NaN          NaN   2019-02-28  2019-02-24  \n",
      "64015       NaN       NaN        NaN          NaN          NaN  2023-09-29  \n",
      "\n",
      "[64016 rows x 14 columns]\n"
     ]
    }
   ],
   "source": [
    "import pandas as pd\n",
    "\n",
    "df = pd.read_csv('vgchartz-2024.csv')\n",
    "\n",
    "print(df)"
   ]
  },
  {
   "cell_type": "code",
   "execution_count": 10,
   "metadata": {},
   "outputs": [
    {
     "name": "stdout",
     "output_type": "stream",
     "text": [
      "img                 0\n",
      "title               0\n",
      "console             0\n",
      "genre               0\n",
      "publisher           0\n",
      "developer          17\n",
      "critic_score    57338\n",
      "total_sales     45094\n",
      "na_sales        51379\n",
      "jp_sales        57290\n",
      "pal_sales       51192\n",
      "other_sales     48888\n",
      "release_date     7051\n",
      "last_update     46137\n",
      "dtype: int64\n"
     ]
    }
   ],
   "source": [
    "print(df.isnull().sum())"
   ]
  },
  {
   "cell_type": "code",
   "execution_count": 12,
   "metadata": {},
   "outputs": [
    {
     "name": "stdout",
     "output_type": "stream",
     "text": [
      "img              0\n",
      "title            0\n",
      "console          0\n",
      "genre            0\n",
      "publisher        0\n",
      "developer       17\n",
      "critic_score     0\n",
      "total_sales      0\n",
      "na_sales         0\n",
      "jp_sales         0\n",
      "pal_sales        0\n",
      "other_sales      0\n",
      "release_date     0\n",
      "last_update      0\n",
      "dtype: int64\n"
     ]
    }
   ],
   "source": [
    "df[[\"na_sales\", \"jp_sales\", \"pal_sales\", \"other_sales\"]] = df[[\"na_sales\", \"jp_sales\", \"pal_sales\", \"other_sales\"]].fillna(0)\n",
    "df[\"total_sales\"] = df[\"na_sales\"] + df[\"jp_sales\"] + df[\"pal_sales\"] + df[\"other_sales\"]\n",
    "df.loc[:, \"critic_score\"] = df[\"critic_score\"].fillna(df[\"critic_score\"].median())\n",
    "df.loc[:, \"release_date\"] = df[\"release_date\"].fillna(\"Unknown\")\n",
    "df.loc[:, \"last_update\"] = df[\"last_update\"].fillna(\"Unknown\")\n",
    "\n",
    "print(df.isnull().sum())"
   ]
  },
  {
   "cell_type": "code",
   "execution_count": 14,
   "metadata": {},
   "outputs": [
    {
     "name": "stdout",
     "output_type": "stream",
     "text": [
      "                                             img                        title  \\\n",
      "0  /games/boxart/full_6510540AmericaFrontccc.jpg           Grand Theft Auto V   \n",
      "1  /games/boxart/full_5563178AmericaFrontccc.jpg           Grand Theft Auto V   \n",
      "2                    /games/boxart/827563ccc.jpg  Grand Theft Auto: Vice City   \n",
      "3  /games/boxart/full_9218923AmericaFrontccc.jpg           Grand Theft Auto V   \n",
      "4  /games/boxart/full_4990510AmericaFrontccc.jpg    Call of Duty: Black Ops 3   \n",
      "\n",
      "  console    genre       publisher       developer  critic_score  total_sales  \\\n",
      "0     PS3   Action  Rockstar Games  Rockstar North           9.4        20.33   \n",
      "1     PS4   Action  Rockstar Games  Rockstar North           9.7        19.39   \n",
      "2     PS2   Action  Rockstar Games  Rockstar North           9.6        16.15   \n",
      "3    X360   Action  Rockstar Games  Rockstar North           7.5        15.87   \n",
      "4     PS4  Shooter      Activision        Treyarch           8.1        15.08   \n",
      "\n",
      "   Norteamerica  Japon  Europa y Afica  Otras regiones release_date  \\\n",
      "0          6.37   0.99            9.85            3.12   2013-09-17   \n",
      "1          6.06   0.60            9.71            3.02   2014-11-18   \n",
      "2          8.41   0.47            5.49            1.78   2002-10-28   \n",
      "3          9.06   0.06            5.33            1.42   2013-09-17   \n",
      "4          6.18   0.41            6.05            2.44   2015-11-06   \n",
      "\n",
      "  last_update  \n",
      "0     Unknown  \n",
      "1  2018-01-03  \n",
      "2     Unknown  \n",
      "3     Unknown  \n",
      "4  2018-01-14  \n"
     ]
    }
   ],
   "source": [
    "df.rename(columns={\n",
    "    \"na_sales\": \"Norteamerica\",\n",
    "    \"jp_sales\": \"Japon\",\n",
    "    \"pal_sales\": \"Europa y Afica\",\n",
    "    \"other_sales\": \"Otras regiones\"\n",
    "}, inplace=True)\n",
    "\n",
    "print(df.head())"
   ]
  },
  {
   "cell_type": "code",
   "execution_count": 15,
   "metadata": {},
   "outputs": [],
   "source": [
    "df.to_csv('Dataset-Videojuegos-2024-Cleaned.csv', index=False)"
   ]
  }
 ],
 "metadata": {
  "kernelspec": {
   "display_name": "Python 3",
   "language": "python",
   "name": "python3"
  },
  "language_info": {
   "codemirror_mode": {
    "name": "ipython",
    "version": 3
   },
   "file_extension": ".py",
   "mimetype": "text/x-python",
   "name": "python",
   "nbconvert_exporter": "python",
   "pygments_lexer": "ipython3",
   "version": "3.13.1"
  }
 },
 "nbformat": 4,
 "nbformat_minor": 2
}
